{
 "cells": [
  {
   "cell_type": "markdown",
   "metadata": {},
   "source": [
    "### Importing Modules"
   ]
  },
  {
   "cell_type": "code",
   "execution_count": null,
   "metadata": {},
   "outputs": [],
   "source": [
    "from glob import glob\n",
    "import os\n",
    "\n",
    "import pandas as pd"
   ]
  },
  {
   "cell_type": "markdown",
   "metadata": {},
   "source": [
    "### Function to Join Csv's"
   ]
  },
  {
   "cell_type": "code",
   "execution_count": null,
   "metadata": {},
   "outputs": [],
   "source": [
    "def joincsv(path):\n",
    "    \"\"\"\n",
    "        Function to join 2 or more csv files to single file\n",
    "        parameters\n",
    "        \n",
    "    \"\"\"\n",
    "    # path to the folder \n",
    "    path = os.path.join(path, \"TweetsData*.csv\")\n",
    "\n",
    "    # list of all files_path present in path folder\n",
    "    files_list = glob(path)\n",
    "    # print(join_files)\n",
    "\n",
    "    # Joining csv files with concat, map\n",
    "    # converting all csv data to DataFrame with !read_csv\n",
    "    df = pd.concat(map(pd.read_csv, files_list), ignore_index=True)\n",
    "    \n",
    "    #Removing Duplicate records\n",
    "   #----- \n",
    "    print(\"Before drop_duplicates\")\n",
    "    print(df.shape)\n",
    "    df.drop_duplicates(keep='first', inplace=True)\n",
    "    print(df[df.duplicated()].shape)\n",
    "   #-----\n",
    "    print(\"After drop_duplicates\")\n",
    "    print(df.shape)\n",
    "    \n",
    "    # writing to new single Csv file\n",
    "    df.to_csv(os.path.join(path, 'TwitterData123.csv'))\n",
    "    print('completed')"
   ]
  },
  {
   "cell_type": "code",
   "execution_count": null,
   "metadata": {},
   "outputs": [],
   "source": [
    "if __name__ == \"__main__\":\n",
    "    path = r\"H:\\\\MyLearningProjects\\\\PythonProjects\\\\SentimentAnalysis\\\\static\\\\csv_files\\\\\"\n",
    "    joincsv(path)"
   ]
  }
 ],
 "metadata": {
  "language_info": {
   "name": "python"
  },
  "orig_nbformat": 4
 },
 "nbformat": 4,
 "nbformat_minor": 2
}
