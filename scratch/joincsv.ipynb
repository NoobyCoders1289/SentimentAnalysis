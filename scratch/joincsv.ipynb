{
 "cells": [
  {
   "cell_type": "markdown",
   "metadata": {},
   "source": [
    "### Importing Modules"
   ]
  },
  {
   "cell_type": "code",
   "execution_count": 1,
   "metadata": {},
   "outputs": [],
   "source": [
    "from glob import glob\n",
    "import os\n",
    "\n",
    "import pandas as pd\n",
    "from configparser import ConfigParser\n"
   ]
  },
  {
   "cell_type": "markdown",
   "metadata": {},
   "source": [
    "### Function to Join Csv's"
   ]
  },
  {
   "cell_type": "code",
   "execution_count": 2,
   "metadata": {},
   "outputs": [],
   "source": [
    "def joincsv(path):\n",
    "    \"\"\"\n",
    "        Function to join 2 or more csv files to single file\n",
    "        parameters\n",
    "\n",
    "    \"\"\"\n",
    "    # path to the folder\n",
    "    folder_path = os.path.join(path, \"TweetsData*.csv\")\n",
    "\n",
    "    # list of all files_path present in path folder\n",
    "    files_list = glob(folder_path)\n",
    "    # print(join_files)\n",
    "\n",
    "    # Joining csv files with concat, map\n",
    "    # converting all csv data to DataFrame with !read_csv\n",
    "    df = pd.concat(map(pd.read_csv, files_list), ignore_index=True)\n",
    "\n",
    "    # Removing Duplicate records\n",
    "   # -----\n",
    "    print(\"Before drop_duplicates\")\n",
    "    print(df.shape)\n",
    "    df.drop_duplicates(keep='first', inplace=True)\n",
    "    print(df[df.duplicated()].shape)\n",
    "   # -----\n",
    "    print(\"After drop_duplicates\")\n",
    "    print(df.shape)\n",
    "\n",
    "    # writing to new single Csv file\n",
    "    df.to_csv(os.path.join(path, 'TwitterData123.csv'))\n",
    "    print('completed')\n"
   ]
  },
  {
   "cell_type": "code",
   "execution_count": 17,
   "metadata": {},
   "outputs": [
    {
     "name": "stdout",
     "output_type": "stream",
     "text": [
      "Before drop_duplicates\n",
      "(13376, 8)\n",
      "(0, 8)\n",
      "After drop_duplicates\n",
      "(7145, 8)\n",
      "completed\n"
     ]
    }
   ],
   "source": [
    "if __name__ == \"__main__\":\n",
    "    # ConfigParse Parses the config file\n",
    "    file = '../config.ini'\n",
    "    config = ConfigParser()\n",
    "    config.read(file)\n",
    "    # path = r\"H:\\\\MyLearningProjects\\\\PythonProjects\\\\SentimentAnalysis\\\\static\\\\csv_files\\\\\"\n",
    "    path = config['path']['static_csvfiles']\n",
    "    # print(path)\n",
    "    joincsv(path)\n"
   ]
  }
 ],
 "metadata": {
  "interpreter": {
   "hash": "4176759cfbb686ef48b145adb3ebc3091385c63e32665ee2e82105d154c0ca18"
  },
  "kernelspec": {
   "display_name": "Python 3.9.9 ('venv': venv)",
   "language": "python",
   "name": "python3"
  },
  "language_info": {
   "codemirror_mode": {
    "name": "ipython",
    "version": 3
   },
   "file_extension": ".py",
   "mimetype": "text/x-python",
   "name": "python",
   "nbconvert_exporter": "python",
   "pygments_lexer": "ipython3",
   "version": "3.9.9"
  },
  "orig_nbformat": 4
 },
 "nbformat": 4,
 "nbformat_minor": 2
}
